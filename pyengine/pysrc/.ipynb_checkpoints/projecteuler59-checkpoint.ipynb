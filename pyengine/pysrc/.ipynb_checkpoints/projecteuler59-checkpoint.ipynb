{
 "cells": [
  {
   "cell_type": "code",
   "execution_count": 71,
   "metadata": {},
   "outputs": [],
   "source": [
    "def from_char_to_bin(char):\n",
    "    binstr = bin(ord(char))[2:]\n",
    "    while len(binstr) < 8:\n",
    "        binstr = '0' + binstr\n",
    "    return binstr"
   ]
  },
  {
   "cell_type": "code",
   "execution_count": 110,
   "metadata": {},
   "outputs": [],
   "source": [
    "def from_ascii_val_to_bin(val):\n",
    "    binstr = bin(val)[2:]\n",
    "    while len(binstr) < 8:\n",
    "        binstr = '0' + binstr\n",
    "    return binstr"
   ]
  },
  {
   "cell_type": "code",
   "execution_count": 72,
   "metadata": {},
   "outputs": [],
   "source": [
    "def from_chars_to_bin(charstr):\n",
    "    binstr = \"\"    \n",
    "    for char in charstr:\n",
    "        binstr += from_char_to_bin(char)\n",
    "    return binstr"
   ]
  },
  {
   "cell_type": "code",
   "execution_count": 74,
   "metadata": {},
   "outputs": [],
   "source": [
    "def from_ascii_vals_to_bin(vals):\n",
    "    binstr = \"\"\n",
    "    for val in vals:\n",
    "        binstr += from_ascii_val_to_bin(val)\n",
    "    return binstr"
   ]
  },
  {
   "cell_type": "code",
   "execution_count": 174,
   "metadata": {},
   "outputs": [],
   "source": [
    "def from_bin_to_ascii_vals(binstr):\n",
    "    ascii_vals = []\n",
    "    idx = 0 \n",
    "    while idx+7 < len(binstr):\n",
    "        binnum = binstr[idx:idx+8]\n",
    "        val = eval('0b'+binnum)\n",
    "        ascii_vals.append(val)\n",
    "        idx += 8\n",
    "    return ascii_vals"
   ]
  },
  {
   "cell_type": "code",
   "execution_count": 190,
   "metadata": {},
   "outputs": [],
   "source": [
    "def perform_xor(msgbin,key):\n",
    "    keybin = from_chars_to_bin(key)\n",
    "    while len(keybin) < len(msgbin):\n",
    "        keybin += keybin\n",
    "    \n",
    "    xor = \"\"\n",
    "    for i in range(len(msgbin)):\n",
    "        if msgbin[i] == keybin[i] == '1':\n",
    "            xor += '0'\n",
    "        else:\n",
    "            xor += str( int(msgbin[i]) + int(keybin[i])  )\n",
    "    return xor"
   ]
  },
  {
   "cell_type": "code",
   "execution_count": 200,
   "metadata": {},
   "outputs": [],
   "source": [
    "def ascii_to_text(ascii_vals):\n",
    "    ostr = \"\"\n",
    "    for val in ascii_vals:\n",
    "        ostr += chr(val)\n",
    "    return ostr"
   ]
  },
  {
   "cell_type": "code",
   "execution_count": 214,
   "metadata": {},
   "outputs": [
    {
     "name": "stdout",
     "output_type": "stream",
     "text": [
      "%\u001c",
      "\u001aA\u0017\u0016\u0003\u001b\u0017\u000b",
      "P\u0004\u001d",
      "S\u0003\n",
      "\u0001\u0010\n",
      "Hej dette er en test\n"
     ]
    }
   ],
   "source": [
    "encr = from_bin_to_ascii_vals(perform_xor(from_chars_to_bin('Hej dette er en test'),\"mypassword\"))\n",
    "print(ascii_to_text(encr))\n",
    "decr = from_bin_to_ascii_vals(perform_xor(from_ascii_vals_to_bin(encr),\"mypassword\"))\n",
    "print(ascii_to_text(decr))"
   ]
  },
  {
   "cell_type": "code",
   "execution_count": 160,
   "metadata": {},
   "outputs": [
    {
     "name": "stderr",
     "output_type": "stream",
     "text": [
      " 15%|████████████▊                                                                      | 4/26 [00:41<03:48, 10.39s/it]"
     ]
    },
    {
     "name": "stdout",
     "output_type": "stream",
     "text": [
      "found exp \\o*xy~o`ii!~|jos!long=ubx!csuxre~ucro*rg*roo=nl=Dqdx:r*pnyi!ixmoskidn=qkmdxn-*?Eo=rplcn!yxscxsp!xxbcmse~`xhl(=ZEs!~ud*ntgn!e{!yxscxr*rg*oditqxrbkqrW'!C=ikkd*odixo~qx*{nse&=ptuo=tdxyzxb~xefd-*|o*xmoz`di!oeqxxrytnd=geo!~ud*xo~tso=rp!e{!~uhy=roohon!;=**,.>=**,.3=**,.;+!!=d~~/&=vbtbb=eomddyr*ro*iio=p|ex|uod*rg*iio=bcobfx-*nn*iiki!c{!~ud*isx!yhl*rg*iicn!yxscxr*tr*rc~|hdxe&=gxrl*tu*|u*roix!~ud*ltkyskitxx!e{!~ud*~hx~mo=geqmejr$=Okpdfd-*T!b|wo=gehon=ub|u*iio=rp!e{!~uhy=roohon!cn!k=rceub=qkou*rg*iio=r{h`xx!e{!~ud*mdxtloidx=nl=ubx!itsiqd*jiend*yhkpd~xs*tr*,:*rs*x*mt~ihdz!~ud*ntg=nl=ubtr*ndxtdy=d{h`f=ue=r&=h~=ikn!~ud*o`~tn*npxi)<4!ghm~tqftdn=cs=r*in*,!e{!~ud*mdxtloidx=ue=ubx!nt`gxuoo/*T!}tmf=rero*niej!~u`~=ubx!yhl*rg*iicn!yxscxr*in*d*|qzonrtlkidfd!;37>)89)1<+9>/3<)2<):*|on=gxrl*ptfihzqxcsf*iicn!dhlhxs*x*nhr1!kse*iios!~|jcsf*iio=r{h`xx!xrn~1!~ud*stgdx=2$,5;(88+49(93*89/22=hy=hdydoy!zonnhboy-*jic~i*xyzodyndy=ubx!zxscpd~xs*rg*|!itsiqd*jiend*yhkpd~xs*tr*,/*[nfqn}tom=`m|hd=ubx!y|lo=r~xqy=cs=vbtbb=H*u`n=`xoh|xe*|u*iicn!yhl&=H*u`|x!ntrirwoodn=ub|u*iio=rp!e{!~ud*ndxtdy=0*6!;20<=**,.2,!!=0%/4<=**,.</4*6!oib$=`fnn*ydzxonn!es!~ud*ltkyskitxx!e{!~ud*~hx~mo3!D|loqx&=ubx!yhl*rg*iicn!ghm~tqftdn=cs=8:=fckdy=ubx!htp|ex|uo=)lrtxii*mn}xs#=nl=ubx!itsihllxsosbo=nl=ubx!zxscpd~xs*rg*|!itsiqd*jiend*yhkpd~xs*tr*,/*\\on=cs=rcphf|s*odknndtom=H*u`|x!ftjojhyx!hxdd=`hqd*in*yd~xsgtoo=ubx!yhly=nl=ubx!yhcyxpxo~=roohon!cs!}uhiu!~ud*xyzroosuy=`xx!okdd=opcoor$\n"
     ]
    },
    {
     "name": "stderr",
     "output_type": "stream",
     "text": [
      "100%|██████████████████████████████████████████████████████████████████████████████████| 26/26 [04:25<00:00, 10.22s/it]\n"
     ]
    }
   ],
   "source": [
    "from tqdm import tqdm\n",
    "\n",
    "data = [36,22,80,0,0,4,23,25,19,17,88,4,4,19,21,11,88,22,23,23,29,69,12,24,0,88,25,11,12,2,10,28,5,6,12,25,10,22,80,10,30,80,10,22,21,69,23,22,69,61,5,9,29,2,66,11,80,8,23,3,17,88,19,0,20,21,7,10,17,17,29,20,69,8,17,21,29,2,22,84,80,71,60,21,69,11,5,8,21,25,22,88,3,0,10,25,0,10,5,8,88,2,0,27,25,21,10,31,6,25,2,16,21,82,69,35,63,11,88,4,13,29,80,22,13,29,22,88,31,3,88,3,0,10,25,0,11,80,10,30,80,23,29,19,12,8,2,10,27,17,9,11,45,95,88,57,69,16,17,19,29,80,23,29,19,0,22,4,9,1,80,3,23,5,11,28,92,69,9,5,12,12,21,69,13,30,0,0,0,0,27,4,0,28,28,28,84,80,4,22,80,0,20,21,2,25,30,17,88,21,29,8,2,0,11,3,12,23,30,69,30,31,23,88,4,13,29,80,0,22,4,12,10,21,69,11,5,8,88,31,3,88,4,13,17,3,69,11,21,23,17,21,22,88,65,69,83,80,84,87,68,69,83,80,84,87,73,69,83,80,84,87,65,83,88,91,69,29,4,6,86,92,69,15,24,12,27,24,69,28,21,21,29,30,1,11,80,10,22,80,17,16,21,69,9,5,4,28,2,4,12,5,23,29,80,10,30,80,17,16,21,69,27,25,23,27,28,0,84,80,22,23,80,17,16,17,17,88,25,3,88,4,13,29,80,17,10,5,0,88,3,16,21,80,10,30,80,17,16,25,22,88,3,0,10,25,0,11,80,12,11,80,10,26,4,4,17,30,0,28,92,69,30,2,10,21,80,12,12,80,4,12,80,10,22,19,0,88,4,13,29,80,20,13,17,1,10,17,17,13,2,0,88,31,3,88,4,13,29,80,6,17,2,6,20,21,69,30,31,9,20,31,18,11,94,69,54,17,8,29,28,28,84,80,44,88,24,4,14,21,69,30,31,16,22,20,69,12,24,4,12,80,17,16,21,69,11,5,8,88,31,3,88,4,13,17,3,69,11,21,23,17,21,22,88,25,22,88,17,69,11,25,29,12,24,69,8,17,23,12,80,10,30,80,17,16,21,69,11,1,16,25,2,0,88,31,3,88,4,13,29,80,21,29,2,12,21,21,17,29,2,69,23,22,69,12,24,0,88,19,12,10,19,9,29,80,18,16,31,22,29,80,1,17,17,8,29,4,0,10,80,12,11,80,84,67,80,10,10,80,7,1,80,21,13,4,17,17,30,2,88,4,13,29,80,22,13,29,69,23,22,69,12,24,12,11,80,22,29,2,12,29,3,69,29,1,16,25,28,69,12,31,69,11,92,69,17,4,69,16,17,22,88,4,13,29,80,23,25,4,12,23,80,22,9,2,17,80,70,76,88,29,16,20,4,12,8,28,12,29,20,69,26,9,69,11,80,17,23,80,84,88,31,3,88,4,13,29,80,21,29,2,12,21,21,17,29,2,69,12,31,69,12,24,0,88,20,12,25,29,0,12,21,23,86,80,44,88,7,12,20,28,69,11,31,10,22,80,22,16,31,18,88,4,13,25,4,69,12,24,0,88,3,16,21,80,10,30,80,17,16,25,22,88,3,0,10,25,0,11,80,17,23,80,7,29,80,4,8,0,23,23,8,12,21,17,17,29,28,28,88,65,75,78,68,81,65,67,81,72,70,83,64,68,87,74,70,81,75,70,81,67,80,4,22,20,69,30,2,10,21,80,8,13,28,17,17,0,9,1,25,11,31,80,17,16,25,22,88,30,16,21,18,0,10,80,7,1,80,22,17,8,73,88,17,11,28,80,17,16,21,11,88,4,4,19,25,11,31,80,17,16,21,69,11,1,16,25,2,0,88,2,10,23,4,73,88,4,13,29,80,11,13,29,7,29,2,69,75,94,84,76,65,80,65,66,83,77,67,80,64,73,82,65,67,87,75,72,69,17,3,69,17,30,1,29,21,1,88,0,23,23,20,16,27,21,1,84,80,18,16,25,6,16,80,0,0,0,23,29,3,22,29,3,69,12,24,0,88,0,0,10,25,8,29,4,0,10,80,10,30,80,4,88,19,12,10,19,9,29,80,18,16,31,22,29,80,1,17,17,8,29,4,0,10,80,12,11,80,84,86,80,35,23,28,9,23,7,12,22,23,69,25,23,4,17,30,69,12,24,0,88,3,4,21,21,69,11,4,0,8,3,69,26,9,69,15,24,12,27,24,69,49,80,13,25,20,69,25,2,23,17,6,0,28,80,4,12,80,17,16,25,22,88,3,16,21,92,69,49,80,13,25,6,0,88,20,12,11,19,10,14,21,23,29,20,69,12,24,4,12,80,17,16,21,69,11,5,8,88,31,3,88,4,13,29,80,22,29,2,12,29,3,69,73,80,78,88,65,74,73,70,69,83,80,84,87,72,84,88,91,69,73,95,87,77,70,69,83,80,84,87,70,87,77,80,78,88,21,17,27,94,69,25,28,22,23,80,1,29,0,0,22,20,22,88,31,11,88,4,13,29,80,20,13,17,1,10,17,17,13,2,0,88,31,3,88,4,13,29,80,6,17,2,6,20,21,75,88,62,4,21,21,9,1,92,69,12,24,0,88,3,16,21,80,10,30,80,17,16,25,22,88,29,16,20,4,12,8,28,12,29,20,69,26,9,69,65,64,69,31,25,19,29,3,69,12,24,0,88,18,12,9,5,4,28,2,4,12,21,69,80,22,10,13,2,17,16,80,21,23,7,0,10,89,69,23,22,69,12,24,0,88,19,12,10,19,16,21,22,0,10,21,11,27,21,69,23,22,69,12,24,0,88,0,0,10,25,8,29,4,0,10,80,10,30,80,4,88,19,12,10,19,9,29,80,18,16,31,22,29,80,1,17,17,8,29,4,0,10,80,12,11,80,84,86,80,36,22,20,69,26,9,69,11,25,8,17,28,4,10,80,23,29,17,22,23,30,12,22,23,69,49,80,13,25,6,0,88,28,12,19,21,18,17,3,0,88,18,0,29,30,69,25,18,9,29,80,17,23,80,1,29,4,0,10,29,12,22,21,69,12,24,0,88,3,16,21,3,69,23,22,69,12,24,0,88,3,16,26,3,0,9,5,0,22,4,69,11,21,23,17,21,22,88,25,11,88,7,13,17,19,13,88,4,13,29,80,0,0,0,10,22,21,11,12,3,69,25,2,0,88,21,19,29,30,69,22,5,8,26,21,23,11,94]\n",
    "msgbin = from_ascii_vals_to_bin(data)\n",
    "\n",
    "for i1 in tqdm(range(97,123)):\n",
    "    for i2 in range(97,123):\n",
    "        for i3 in range(97,123):\n",
    "            key = chr(i1) + chr(i2) + chr(i3)\n",
    "            dec_data = from_bin_to_ascii_vals(perform_xor(msgbin,key))\n",
    "            \n",
    "            count = 0\n",
    "            for entry in dec_data:\n",
    "                if entry != 32 and (entry < 65 or entry > 122):\n",
    "                    count += 1\n",
    "            if count/len(dec_data) < 0.1:\n",
    "                print('found',key,ascii_to_text(dec_data))"
   ]
  },
  {
   "cell_type": "code",
   "execution_count": 204,
   "metadata": {},
   "outputs": [
    {
     "data": {
      "text/plain": [
       "'An extract taken from the introduction of one of Euler\\'s most celebrated papers, \"De summis serierum reciprocarum\" [On the sums of series of reciprocals]: I have recently found, quite unexpectedly, an elegant expression for the entire sum of this series 1 + 1/4 + 1/9 + 1/16 + etc., which depends on the quadrature of the circle, so that if the true sum of this series is obtained, from it at once the quadrature of the circle follows. Namely, I have found that the sum of this series is a sixth part of the square of the perimeter of the circle whose diameter is 1; or by putting the sum of this series equal to s, it has the ratio sqrt(6) multiplied by s to 1 of the perimeter to the diameter. I will soon show that the sum of this series to be approximately 1.644934066842264364; and from multiplying this number by six, and then taking the square root, the number 3.141592653589793238 is indeed produced, which expresses the perimeter of a circle whose diameter is 1. Following again the same steps by which I had arrived at this sum, I have discovered that the sum of the series 1 + 1/16 + 1/81 + 1/256 + 1/625 + etc. also depends on the quadrature of the circle. Namely, the sum of this multiplied by 90 gives the biquadrate (fourth power) of the circumference of the perimeter of a circle whose diameter is 1. And by similar reasoning I have likewise been able to determine the sums of the subsequent series in which the exponents are even numbers.'"
      ]
     },
     "execution_count": 204,
     "metadata": {},
     "output_type": "execute_result"
    }
   ],
   "source": [
    "ascii_to_text(from_bin_to_ascii_vals(perform_xor(msgbin,\"exp\")))"
   ]
  },
  {
   "cell_type": "code",
   "execution_count": 216,
   "metadata": {},
   "outputs": [
    {
     "name": "stdout",
     "output_type": "stream",
     "text": [
      "129448\n"
     ]
    }
   ],
   "source": [
    "sumval = 0\n",
    "for val in from_bin_to_ascii_vals(perform_xor(msgbin,\"exp\")):\n",
    "    sumval += val\n",
    "print(sumval)"
   ]
  }
 ],
 "metadata": {
  "kernelspec": {
   "display_name": "Python 3",
   "language": "python",
   "name": "python3"
  },
  "language_info": {
   "codemirror_mode": {
    "name": "ipython",
    "version": 3
   },
   "file_extension": ".py",
   "mimetype": "text/x-python",
   "name": "python",
   "nbconvert_exporter": "python",
   "pygments_lexer": "ipython3",
   "version": "3.8.3"
  }
 },
 "nbformat": 4,
 "nbformat_minor": 4
}
